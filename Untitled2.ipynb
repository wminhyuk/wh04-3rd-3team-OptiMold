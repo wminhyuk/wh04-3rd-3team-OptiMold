{
 "cells": [
  {
   "cell_type": "code",
   "execution_count": 1,
   "id": "a55a1027-9ced-4412-9a9e-35a058bee1ac",
   "metadata": {},
   "outputs": [
    {
     "name": "stdout",
     "output_type": "stream",
     "text": [
      "Backpr: 109 files\n",
      "Extruder: 109 files\n",
      "Flow_Rate: 109 files\n",
      "Inject: 109 files\n",
      "Nozzle: 109 files\n",
      "Piston_Position: 109 files\n",
      "Piston_Pressure: 109 files\n",
      "Piston_Velocity: 109 files\n",
      "Retract: 109 files\n",
      "Volume: 109 files\n"
     ]
    }
   ],
   "source": [
    "import glob\n",
    "import os\n",
    "\n",
    "csv_dir = \"/mnt/c/Users/Admin/MATLAB/Projects/my_project/csv_results\"\n",
    "all_files = glob.glob(os.path.join(csv_dir, \"*.csv\"))\n",
    "\n",
    "variables = [\n",
    "    \"Backpr\", \"Extruder\", \"Flow_Rate\", \"Inject\", \"Nozzle\",\n",
    "    \"Piston_Position\", \"Piston_Pressure\", \"Piston_Velocity\", \"Retract\", \"Volume\"\n",
    "]\n",
    "selected_files = {}\n",
    "\n",
    "for var in variables:\n",
    "    matched = [f for f in all_files if var.lower() in os.path.basename(f).lower() and 'RID014' in f]\n",
    "    matched_sorted = sorted(matched)\n",
    "    selected_files[var] = matched_sorted[:120]\n",
    "# 결과 확인\n",
    "for var, files in selected_files.items():\n",
    "    print(f\"{var}: {len(files)} files\")"
   ]
  },
  {
   "cell_type": "code",
   "execution_count": 8,
   "id": "e028f2a2-d155-4eec-b3aa-83c3f39a6eeb",
   "metadata": {},
   "outputs": [
    {
     "name": "stdout",
     "output_type": "stream",
     "text": [
      "✅ feature_df_from_csv.csv 저장 완료\n"
     ]
    }
   ],
   "source": [
    "import pandas as pd\n",
    "import numpy as np\n",
    "import glob\n",
    "import os\n",
    "\n",
    "# 🔧 설정\n",
    "csv_dir = \"/mnt/c/Users/Admin/MATLAB/Projects/my_project/csv_results/\"\n",
    "variables = [\"Volume\", \"Piston_Pressure\", \"Flow_Rate\", \"Piston_Position\", \"Piston_Velocity\"]\n",
    "\n",
    "# 📌 Step 1: 시계열 → Feature 추출 함수\n",
    "def extract_features(time, signal):\n",
    "    flat_ratio = np.sum(np.abs(np.gradient(signal)) < 1e-4) / len(signal)\n",
    "    auc = np.trapezoid(signal, time)  # ← trapz → trapezoid로 수정\n",
    "    rise_time = np.nan\n",
    "    try:\n",
    "        v_min, v_max = np.min(signal), np.max(signal)\n",
    "        t10 = time[np.where(signal >= v_min + 0.1*(v_max - v_min))[0][0]]\n",
    "        t90 = time[np.where(signal >= v_min + 0.9*(v_max - v_min))[0][0]]\n",
    "        rise_time = t90 - t10\n",
    "    except:\n",
    "        pass\n",
    "    return {\n",
    "        \"max\": np.max(signal),\n",
    "        \"mean\": np.mean(signal),\n",
    "        \"auc\": auc,\n",
    "        \"std\": np.std(signal),\n",
    "        \"flat_ratio\": flat_ratio,\n",
    "        \"rise_time\": rise_time\n",
    "    }\n",
    "\n",
    "# 📌 Step 2: Rule 기반 라벨링\n",
    "def rule_label(feats):\n",
    "    v = feats.get(\"Volume_max\", np.inf)\n",
    "    p = feats.get(\"Piston_Pressure_max\", np.inf)\n",
    "    f = feats.get(\"Flow_Rate_flat_ratio\", 0)\n",
    "    if v < 48: return 1\n",
    "    if p < 5e7: return 1\n",
    "    if f > 0.8: return 1\n",
    "    return 0\n",
    "\n",
    "# 📦 전체 cycle 리스트 추출\n",
    "cycle_tags = sorted(set([\n",
    "    os.path.basename(f).split(\"_\", 1)[1].rsplit(\".\", 1)[0]\n",
    "    for f in glob.glob(os.path.join(csv_dir, \"*.csv\")) if \"RID014\" in f\n",
    "]))\n",
    "\n",
    "# 🧮 Feature 추출 및 라벨링\n",
    "rows = []\n",
    "for tag in cycle_tags:\n",
    "    row = {\"cycle_id\": tag}\n",
    "    for var in variables:\n",
    "        path = os.path.join(csv_dir, f\"{var}_{tag}.csv\")\n",
    "        if os.path.exists(path):\n",
    "            try:\n",
    "                df = pd.read_csv(path)\n",
    "                time = df.iloc[:, 0].astype(float).values\n",
    "                value = df.iloc[:, 1].astype(float).values\n",
    "                feats = extract_features(time, value)\n",
    "                for k, v in feats.items():\n",
    "                    row[f\"{var}_{k}\"] = v\n",
    "            except Exception as e:\n",
    "                print(f\"[⚠️] {var}_{tag} 처리 실패: {e}\")\n",
    "    row[\"label\"] = rule_label(row)\n",
    "    rows.append(row)\n",
    "\n",
    "# 💾 최종 저장\n",
    "df_features = pd.DataFrame(rows)\n",
    "df_features.to_csv(\"feature_df_from_csv.csv\", index=False)\n",
    "print(\"✅ feature_df_from_csv.csv 저장 완료\")\n"
   ]
  },
  {
   "cell_type": "code",
   "execution_count": 7,
   "id": "c020b549-a0bf-4505-b792-957d591d94de",
   "metadata": {},
   "outputs": [
    {
     "data": {
      "text/plain": [
       "'/home/seominhyuk/code/wh04-3rd-3team-OptiMold'"
      ]
     },
     "execution_count": 7,
     "metadata": {},
     "output_type": "execute_result"
    }
   ],
   "source": [
    "import os\n",
    "os.getcwd()"
   ]
  },
  {
   "cell_type": "code",
   "execution_count": null,
   "id": "bbb4a96f-b96e-41e8-aca1-32264e9bf747",
   "metadata": {},
   "outputs": [],
   "source": []
  }
 ],
 "metadata": {
  "kernelspec": {
   "display_name": "Python 3 (ipykernel)",
   "language": "python",
   "name": "python3"
  },
  "language_info": {
   "codemirror_mode": {
    "name": "ipython",
    "version": 3
   },
   "file_extension": ".py",
   "mimetype": "text/x-python",
   "name": "python",
   "nbconvert_exporter": "python",
   "pygments_lexer": "ipython3",
   "version": "3.12.3"
  }
 },
 "nbformat": 4,
 "nbformat_minor": 5
}
